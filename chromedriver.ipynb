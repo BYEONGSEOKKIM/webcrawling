{
 "cells": [
  {
   "cell_type": "code",
   "execution_count": 2,
   "id": "e0cd6c36",
   "metadata": {},
   "outputs": [
    {
     "name": "stdout",
     "output_type": "stream",
     "text": [
      "Collecting selenium\n",
      "  Downloading selenium-3.141.0-py2.py3-none-any.whl (904 kB)\n",
      "Requirement already satisfied: urllib3 in c:\\users\\kbs1\\anaconda3\\lib\\site-packages (from selenium) (1.26.4)\n",
      "Installing collected packages: selenium\n",
      "Successfully installed selenium-3.141.0\n"
     ]
    }
   ],
   "source": [
    "!pip install selenium"
   ]
  },
  {
   "cell_type": "code",
   "execution_count": 3,
   "id": "de1dabb3",
   "metadata": {},
   "outputs": [],
   "source": [
    "from selenium import webdriver"
   ]
  },
  {
   "cell_type": "code",
   "execution_count": 5,
   "id": "7d57b559",
   "metadata": {},
   "outputs": [],
   "source": [
    "driver = webdriver.Chrome(\"C:/algorithm/chromedriver/chromedriver\")"
   ]
  },
  {
   "cell_type": "code",
   "execution_count": 9,
   "id": "29ef8f95",
   "metadata": {},
   "outputs": [],
   "source": [
    "driver.get(\"https://www.naver.com\")"
   ]
  },
  {
   "cell_type": "code",
   "execution_count": 10,
   "id": "d18bd879",
   "metadata": {},
   "outputs": [],
   "source": [
    "driver.set_window_size(1024,768)"
   ]
  },
  {
   "cell_type": "code",
   "execution_count": 12,
   "id": "f9e3ce27",
   "metadata": {},
   "outputs": [],
   "source": [
    "driver.execute_script(\"window.scrollTo(200,300);\")"
   ]
  },
  {
   "cell_type": "code",
   "execution_count": 15,
   "id": "a805fb4f",
   "metadata": {},
   "outputs": [],
   "source": [
    "driver.execute_script(\"alert('selenium test');\")"
   ]
  },
  {
   "cell_type": "code",
   "execution_count": 16,
   "id": "d84e6db8",
   "metadata": {},
   "outputs": [
    {
     "name": "stdout",
     "output_type": "stream",
     "text": [
      "selenium test\n"
     ]
    }
   ],
   "source": [
    "try:\n",
    "    alert = driver.switch_to.alert\n",
    "    print(alert.text)\n",
    "except:\n",
    "    print('alert 없음')"
   ]
  },
  {
   "cell_type": "code",
   "execution_count": 17,
   "id": "47e5de36",
   "metadata": {},
   "outputs": [],
   "source": [
    "alert.accept()"
   ]
  },
  {
   "cell_type": "code",
   "execution_count": 18,
   "id": "7d6c8e3e",
   "metadata": {},
   "outputs": [],
   "source": [
    "driver.find_element_by_css_selector(\".btn_submit\").click()"
   ]
  },
  {
   "cell_type": "code",
   "execution_count": 19,
   "id": "49da26ca",
   "metadata": {},
   "outputs": [],
   "source": [
    "driver.get(\"https://www.ted.com/talks\")"
   ]
  },
  {
   "cell_type": "code",
   "execution_count": 22,
   "id": "0bff1592",
   "metadata": {},
   "outputs": [
    {
     "data": {
      "text/plain": [
       "'Join TED Recommends to get the best ideas, selected just for you'"
      ]
     },
     "execution_count": 22,
     "metadata": {},
     "output_type": "execute_result"
    }
   ],
   "source": [
    "driver.find_element_by_css_selector('#banner-secondary').text"
   ]
  },
  {
   "cell_type": "code",
   "execution_count": 23,
   "id": "f24107cd",
   "metadata": {},
   "outputs": [
    {
     "data": {
      "text/plain": [
       "36"
      ]
     },
     "execution_count": 23,
     "metadata": {},
     "output_type": "execute_result"
    }
   ],
   "source": [
    "contents = driver.find_elements_by_css_selector('#browse-results > div > .col')\n",
    "len(contents)\n"
   ]
  },
  {
   "cell_type": "code",
   "execution_count": 24,
   "id": "3d35c01c",
   "metadata": {},
   "outputs": [
    {
     "data": {
      "text/plain": [
       "'The secret society of the Great Dismal Swamp'"
      ]
     },
     "execution_count": 24,
     "metadata": {},
     "output_type": "execute_result"
    }
   ],
   "source": [
    "contents[0].find_element_by_css_selector('.media > .media__message .ga-link').text\n"
   ]
  },
  {
   "cell_type": "code",
   "execution_count": 25,
   "id": "1cb82f5e",
   "metadata": {},
   "outputs": [],
   "source": [
    "titles = []\n",
    "for content in contents:\n",
    "    title = content.find_element_by_css_selector('.media > .media__message .ga-link').text\n",
    "    titles.append(title)\n"
   ]
  },
  {
   "cell_type": "code",
   "execution_count": 26,
   "id": "d8c2bc11",
   "metadata": {},
   "outputs": [
    {
     "data": {
      "text/plain": [
       "[\"History's deadliest king\",\n",
       " \"A cleanse won't detox your body — but here's what will\",\n",
       " 'What should humans take to space (and leave behind)?',\n",
       " 'Could we build a wooden skyscraper?',\n",
       " \"Why aren't there more Native American restaurants?\"]"
      ]
     },
     "execution_count": 26,
     "metadata": {},
     "output_type": "execute_result"
    }
   ],
   "source": [
    "titles[-5:]"
   ]
  },
  {
   "cell_type": "code",
   "execution_count": 27,
   "id": "c55a8f60",
   "metadata": {},
   "outputs": [
    {
     "data": {
      "text/plain": [
       "['English', 'Español', '日本語', 'Português brasileiro', '中文 (繁體)', '한국어']"
      ]
     },
     "execution_count": 27,
     "metadata": {},
     "output_type": "execute_result"
    }
   ],
   "source": [
    "languages = driver.find_element_by_css_selector('#languages').text\n",
    "languages = languages.split(\"\\n\")[1:-1]\n",
    "languages\n"
   ]
  },
  {
   "cell_type": "code",
   "execution_count": 28,
   "id": "25b59740",
   "metadata": {},
   "outputs": [],
   "source": [
    "driver.find_element_by_css_selector('#languages [lang=\"ko\"]').click()\n"
   ]
  },
  {
   "cell_type": "code",
   "execution_count": 30,
   "id": "1fae1459",
   "metadata": {},
   "outputs": [],
   "source": [
    "import time"
   ]
  },
  {
   "cell_type": "code",
   "execution_count": 32,
   "id": "e9858204",
   "metadata": {},
   "outputs": [
    {
     "data": {
      "text/plain": [
       "['지역 사회와 가능성을 위해 만들어진 재미있고 멋진 공공 공간',\n",
       " '인테넷에서 마음의 평화를 되찾는 법',\n",
       " '트로이 전쟁의 수수께끼를 풀 수 있나요? - 데니스 E. 샤샤(Dennis E. Shasha)',\n",
       " '똥을 하루에 한 번씩 누지 않아도 되는 이유',\n",
       " '질병 치료법을 바꿔 놓을 전자약']"
      ]
     },
     "execution_count": 32,
     "metadata": {},
     "output_type": "execute_result"
    }
   ],
   "source": [
    "time.sleep(3)\n",
    "contents = driver.find_elements_by_css_selector('#browse-results > div > .col')\n",
    "titles = []\n",
    "for content in contents:\n",
    "    title = content.find_element_by_css_selector('.media > .media__message .ga-link').text\n",
    "    titles.append(title)\n",
    "titles[-5:]\n"
   ]
  },
  {
   "cell_type": "code",
   "execution_count": 33,
   "id": "265eab77",
   "metadata": {},
   "outputs": [
    {
     "data": {
      "text/plain": [
       "['https://www.ted.com/talks/matthew_mazzotta_playful_wondrous_public_spaces_built_for_community_and_possibility?language=ko',\n",
       " 'https://www.ted.com/talks/naomi_shimada_tips_for_reclaiming_your_peace_of_mind_online?language=ko',\n",
       " 'https://www.ted.com/talks/dennis_shasha_can_you_solve_the_trojan_war_riddle?language=ko',\n",
       " 'https://www.ted.com/talks/jen_gunter_why_you_shouldn_t_worry_about_pooping_once_a_day?language=ko',\n",
       " 'https://www.ted.com/talks/khalil_ramadi_electronic_pills_that_could_transform_how_we_treat_disease?language=ko']"
      ]
     },
     "execution_count": 33,
     "metadata": {},
     "output_type": "execute_result"
    }
   ],
   "source": [
    "time.sleep(3)\n",
    "contents = driver.find_elements_by_css_selector('#browse-results > div > .col')\n",
    "links = []\n",
    "for content in contents:\n",
    "    link = content.find_element_by_css_selector('.media > .media__message .ga-link').get_attribute('href')\n",
    "    links.append(link)\n",
    "links[-5:]\n"
   ]
  },
  {
   "cell_type": "code",
   "execution_count": null,
   "id": "94ce2ffd",
   "metadata": {},
   "outputs": [],
   "source": []
  }
 ],
 "metadata": {
  "kernelspec": {
   "display_name": "Python 3",
   "language": "python",
   "name": "python3"
  },
  "language_info": {
   "codemirror_mode": {
    "name": "ipython",
    "version": 3
   },
   "file_extension": ".py",
   "mimetype": "text/x-python",
   "name": "python",
   "nbconvert_exporter": "python",
   "pygments_lexer": "ipython3",
   "version": "3.8.8"
  }
 },
 "nbformat": 4,
 "nbformat_minor": 5
}
